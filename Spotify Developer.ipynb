{
 "cells": [
  {
   "cell_type": "markdown",
   "metadata": {},
   "source": [
    "## Sign up for Spotify developer account\n",
    "* Connect developer account to regular spotify account.\n",
    "* Accept terms.\n",
    "* Create a non-commercial app"
   ]
  },
  {
   "cell_type": "code",
   "execution_count": 13,
   "metadata": {
    "scrolled": true
   },
   "outputs": [],
   "source": [
    "import sys\n",
    "import spotipy\n",
    "import spotipy.util as util\n",
    "import os\n",
    "\n",
    "with open('config.txt') as f:\n",
    "    content = f.readlines()\n",
    "    \n",
    "os.environ['SPOTIPY_CLIENT_ID'] = content[0].strip()\n",
    "os.environ['SPOTIPY_CLIENT_SECRET'] = content[1].strip()\n",
    "os.environ['SPOTIPY_REDIRECT_URI'] = content[2].strip()\n",
    "\n",
    "username = content[3].strip()\n",
    "scope = 'user-top-read user-follow-modify' #separated by spaces\n",
    "token = util.prompt_for_user_token(username, scope)"
   ]
  },
  {
   "cell_type": "code",
   "execution_count": 14,
   "metadata": {},
   "outputs": [
    {
     "name": "stdout",
     "output_type": "stream",
     "text": [
      "Your favorite artists:\n",
      "Drake\n",
      "The Weeknd\n",
      "Migos\n",
      "Kanye West\n",
      "Travis Scott\n",
      "****************************************\n",
      "Artists related to Run–D.M.C.:\n",
      "Digital Underground\n",
      "Sir Mix-A-Lot\n",
      "Boogie Down Productions\n",
      "Ice-T\n",
      "Big Daddy Kane\n",
      "Eric B. & Rakim\n",
      "2 LIVE CREW\n",
      "Public Enemy\n",
      "Fat Boys\n",
      "Kool Moe Dee\n",
      "Whodini\n",
      "Naughty By Nature\n",
      "Slick Rick\n",
      "Grandmaster Flash\n",
      "Biz Markie\n",
      "The Sugarhill Gang\n",
      "Kurtis Blow\n",
      "Tone-Loc\n",
      "House Of Pain\n",
      "Special Ed\n"
     ]
    }
   ],
   "source": [
    "sp = spotipy.Spotify(auth=token)\n",
    "\n",
    "#sp.trace = True # turn on tracing\n",
    "#sp.trace_out = True # turn on trace out\n",
    "\n",
    "top_artists = sp.current_user_top_artists(limit=5, offset=0, time_range='short_term')['items']\n",
    "print(\"Your favorite artists:\")\n",
    "for a in range(len(top_artists)):\n",
    "    print(top_artists[a]['name'])\n",
    "\n",
    "urn = 'spotify:artist:3CQIn7N5CuRDP8wEI7FiDA' #Run DMC \n",
    "artist = sp.artist(urn)\n",
    "artist_name = artist['name']\n",
    "\n",
    "print('*'*40)\n",
    "\n",
    "related = sp.artist_related_artists(urn)['artists']\n",
    "print('Artists related to {}:'.format(artist_name))\n",
    "for a in range(len(related)):\n",
    "    print(related[a]['name'])"
   ]
  }
 ],
 "metadata": {
  "kernelspec": {
   "display_name": "Python 3",
   "language": "python",
   "name": "python3"
  },
  "language_info": {
   "codemirror_mode": {
    "name": "ipython",
    "version": 3
   },
   "file_extension": ".py",
   "mimetype": "text/x-python",
   "name": "python",
   "nbconvert_exporter": "python",
   "pygments_lexer": "ipython3",
   "version": "3.7.0"
  }
 },
 "nbformat": 4,
 "nbformat_minor": 2
}
